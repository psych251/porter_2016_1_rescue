{
  "nbformat": 4,
  "nbformat_minor": 0,
  "metadata": {
    "colab": {
      "provenance": []
    },
    "kernelspec": {
      "name": "python3",
      "display_name": "Python 3"
    },
    "language_info": {
      "name": "python"
    }
  },
  "cells": [
    {
      "cell_type": "code",
      "execution_count": null,
      "metadata": {
        "id": "iLDITBQfh9in"
      },
      "outputs": [],
      "source": [
        "import pandas as pd\n",
        "import numpy as np\n",
        "import matplotlib.pyplot as plt\n",
        "import statsmodels.api as sm"
      ]
    },
    {
      "cell_type": "code",
      "source": [
        "import uuid # for id generation"
      ],
      "metadata": {
        "id": "AhFuskBiootK"
      },
      "execution_count": null,
      "outputs": []
    },
    {
      "cell_type": "markdown",
      "source": [
        "\n",
        "\n",
        "```\n",
        "# This is formatted as code\n",
        "```\n",
        "\n",
        "# Annoymization"
      ],
      "metadata": {
        "id": "GMzp1GFplTDn"
      }
    },
    {
      "cell_type": "markdown",
      "source": [
        "## Pilot A"
      ],
      "metadata": {
        "id": "cRcsmtwP8UOC"
      }
    },
    {
      "cell_type": "code",
      "source": [
        "df = pd.read_csv('pilot_b.csv')\n",
        "data_a = df[:-10]\n",
        "data_a = data_a.dropna(subset=['polid','social_issues'])"
      ],
      "metadata": {
        "id": "pDsyS4wACpTc"
      },
      "execution_count": null,
      "outputs": []
    },
    {
      "cell_type": "code",
      "source": [
        "cols_to_drop = [\n",
        "    \"RecipientLastName\",\n",
        "    \"RecipientFirstName\",\n",
        "    \"RecipientEmail\",\n",
        "    \"ExternalDataReference\",\n",
        "    \"IPAddress\",\n",
        "    \"LocationLatitude\",\n",
        "    \"LocationLongitude\",\n",
        "    \"PROLIFIC_PID\",\n",
        "]"
      ],
      "metadata": {
        "id": "HgH60x3AEeqO"
      },
      "execution_count": null,
      "outputs": []
    },
    {
      "cell_type": "code",
      "source": [
        "data_a_anon = data_a[['StartDate', 'EndDate', 'Status', 'Progress',\n",
        "       'Duration (in seconds)', 'Finished', 'RecordedDate', 'UserLanguage', 'Q_RecaptchaScore', 'consent',\n",
        "        'future_help1_1', 'future_rude1_1', 'pol_cate1', 'likelyfriends1',\n",
        "       'future_help2_1', 'future_rude2_1', 'pol_cate2', 'likelyfriends2',\n",
        "       'future_help3_1', 'future_rude3_1', 'pol_cate3', 'likelyfriends3',\n",
        "       'future_help4_1', 'future_rude4_1', 'pol_cate4', 'likelyfriends4',\n",
        "       'num_surveys', 'attention', 'democrat_warm_1', 'republican_warm_1',\n",
        "       'race', 'age', 'birth', 'conserv', 'liberal', 'social_issues', 'polid']]\n",
        "assert len(set(cols_to_drop).intersection(set(data_a_anon.columns.tolist()))) == 0\n",
        "data_a_anon.to_csv('pilot_a_anonymized.csv', index=False)"
      ],
      "metadata": {
        "id": "jzH9ZGTDC6jc"
      },
      "execution_count": null,
      "outputs": []
    },
    {
      "cell_type": "markdown",
      "source": [
        "### Pilot **B**"
      ],
      "metadata": {
        "id": "Lx2bmYeGVqVe"
      }
    },
    {
      "cell_type": "code",
      "source": [
        "# annoymization\n",
        "df = pd.read_csv('pilot_b.csv')\n",
        "selected = df[-8:].copy()\n",
        "selected.reset_index(drop=True, inplace=True)\n",
        "df_demo = pd.read_csv('pilot_b_demographic.csv')"
      ],
      "metadata": {
        "id": "AFSU8ppfnrRy"
      },
      "execution_count": null,
      "outputs": []
    },
    {
      "cell_type": "code",
      "source": [
        "# create newid to match two datasets\n",
        "selected['newID'] = selected['ID'].apply(lambda x: str(uuid.uuid4()))\n",
        "df_demo_new = df_demo.merge(selected[['ID', 'newID']], left_on='Participant id', right_on='ID', how='left')"
      ],
      "metadata": {
        "id": "Bhr3xo2apzyc"
      },
      "execution_count": null,
      "outputs": []
    },
    {
      "cell_type": "code",
      "source": [
        "df_demo_new_anon = df_demo_new[['newID','Age', 'Sex','Ethnicity simplified', 'Country of birth', 'Country of residence',\n",
        "             'Nationality', 'Language', 'Student status', 'Employment status']]\n",
        "assert len(set(cols_to_drop).intersection(set(df_demo_new_anon.columns.tolist()))) == 0\n",
        "df_demo_new_anon.to_csv('pilot_b_demographic_anonymized.csv', index=False)\n",
        "\n",
        "selected_anon = selected[['newID','StartDate', 'EndDate', 'Status', 'Progress',\n",
        "       'Duration (in seconds)', 'Finished', 'RecordedDate', 'UserLanguage', 'Q_RecaptchaScore', 'consent',\n",
        "        'future_help1_1', 'future_rude1_1', 'pol_cate1', 'likelyfriends1',\n",
        "       'future_help2_1', 'future_rude2_1', 'pol_cate2', 'likelyfriends2',\n",
        "       'future_help3_1', 'future_rude3_1', 'pol_cate3', 'likelyfriends3',\n",
        "       'future_help4_1', 'future_rude4_1', 'pol_cate4', 'likelyfriends4',\n",
        "       'num_surveys', 'attention', 'democrat_warm_1', 'republican_warm_1',\n",
        "       'race', 'age', 'birth', 'conserv', 'liberal', 'social_issues', 'polid']]\n",
        "assert len(set(cols_to_drop).intersection(set(selected_anon.columns.tolist()))) == 0\n",
        "selected_anon.to_csv('pilot_b_anonymized.csv', index=False)"
      ],
      "metadata": {
        "id": "nmONlDf6p-uy"
      },
      "execution_count": null,
      "outputs": []
    },
    {
      "cell_type": "code",
      "source": [
        "del selected\n",
        "del df_demo_new\n",
        "del df"
      ],
      "metadata": {
        "id": "6EHNTj0asYrm"
      },
      "execution_count": null,
      "outputs": []
    },
    {
      "cell_type": "markdown",
      "source": [
        "### Full Sample"
      ],
      "metadata": {
        "id": "5xN8Z2qMVmKC"
      }
    },
    {
      "cell_type": "code",
      "source": [
        "## Full Sample\n",
        "# annoymization\n",
        "df = pd.read_csv('prolific_full.csv')\n",
        "df_demo = pd.read_csv('prolific_full_demo.csv')\n",
        "selected = df[23:].copy()\n",
        "selected.reset_index(drop=True, inplace=True)"
      ],
      "metadata": {
        "id": "pDpr8-gwg373"
      },
      "execution_count": null,
      "outputs": []
    },
    {
      "cell_type": "code",
      "source": [
        "# create newid to match two datasets\n",
        "selected['newID'] = selected['ID'].apply(lambda x: str(uuid.uuid4()))\n",
        "df_demo_new = df_demo.merge(selected[['ID', 'newID']], left_on='Participant id', right_on='ID', how='left')"
      ],
      "metadata": {
        "id": "h_bSdzUTV6M5"
      },
      "execution_count": null,
      "outputs": []
    },
    {
      "cell_type": "code",
      "source": [
        "df_demo_new_anon = df_demo_new[['newID','Age', 'Sex','Ethnicity simplified', 'Country of birth', 'Country of residence',\n",
        "             'Nationality', 'Language', 'Student status', 'Employment status']]\n",
        "assert len(set(cols_to_drop).intersection(set(df_demo_new_anon.columns.tolist()))) == 0\n",
        "df_demo_new_anon.to_csv('full_demographic_anonymized.csv', index=False)\n",
        "\n",
        "selected_anon = selected[['newID','StartDate', 'EndDate', 'Status', 'Progress',\n",
        "       'Duration (in seconds)', 'Finished', 'RecordedDate', 'UserLanguage', 'Q_RecaptchaScore', 'consent',\n",
        "        'future_help1_1', 'future_rude1_1', 'pol_cate1', 'likelyfriends1',\n",
        "       'future_help2_1', 'future_rude2_1', 'pol_cate2', 'likelyfriends2',\n",
        "       'future_help3_1', 'future_rude3_1', 'pol_cate3', 'likelyfriends3',\n",
        "       'future_help4_1', 'future_rude4_1', 'pol_cate4', 'likelyfriends4',\n",
        "       'num_surveys', 'attention', 'democrat_warm_1', 'republican_warm_1',\n",
        "       'race', 'age', 'birth', 'conserv', 'liberal', 'social_issues', 'polid']]\n",
        "assert len(set(cols_to_drop).intersection(set(selected_anon.columns.tolist()))) == 0\n",
        "selected_anon.to_csv('full_anonymized.csv', index=False)"
      ],
      "metadata": {
        "id": "XhuDVMf-V6Pf"
      },
      "execution_count": null,
      "outputs": []
    }
  ]
}